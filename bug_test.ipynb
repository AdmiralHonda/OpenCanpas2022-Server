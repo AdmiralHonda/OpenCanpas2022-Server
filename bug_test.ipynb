{
 "cells": [
  {
   "cell_type": "code",
   "execution_count": 1,
   "metadata": {},
   "outputs": [],
   "source": [
    "\"\"\"\n",
    "winでutf-8の読み込み設定を忘れた\n",
    "\"\"\"\n",
    "import json\n",
    "with open(\"./data/cleaned_rakuten_recipes.json\",\"r\",encoding=\"utf-8\") as f:\n",
    "    un_taken_recipe_ingredients = json.load(f)"
   ]
  },
  {
   "cell_type": "code",
   "execution_count": 3,
   "metadata": {},
   "outputs": [
    {
     "name": "stdout",
     "output_type": "stream",
     "text": [
      "テスト\n"
     ]
    }
   ],
   "source": [
    "\"\"\"\n",
    "Protcol Bufferの戻り値を知る\n",
    "\n",
    "messageオブジェクトを出力すると各パラメータはバイナリだが、\n",
    "メンバ変数にアクセスするとPythonの指定の型となる\n",
    "\"\"\"\n",
    "import rec_recipe_pb2\n",
    "\n",
    "test_object = rec_recipe_pb2.Query()\n",
    "test_object.query = \"テスト\"\n",
    "print(test_object.query)"
   ]
  },
  {
   "cell_type": "code",
   "execution_count": 6,
   "metadata": {},
   "outputs": [
    {
     "name": "stdout",
     "output_type": "stream",
     "text": [
      "きゅうり\n"
     ]
    }
   ],
   "source": [
    "\"\"\"\n",
    "メモ\n",
    "\"\"\"\n",
    "# messageのメンバ変数でリスト型を初期化する際には.extend()でリスト事追加か.append()で一個だけ要素を追加"
   ]
  }
 ],
 "metadata": {
  "kernelspec": {
   "display_name": "Python 3.10.5 ('ocan2022': venv)",
   "language": "python",
   "name": "python3"
  },
  "language_info": {
   "codemirror_mode": {
    "name": "ipython",
    "version": 3
   },
   "file_extension": ".py",
   "mimetype": "text/x-python",
   "name": "python",
   "nbconvert_exporter": "python",
   "pygments_lexer": "ipython3",
   "version": "3.10.5"
  },
  "orig_nbformat": 4,
  "vscode": {
   "interpreter": {
    "hash": "893a8053012137791324f6e3b5819e81bcad7a4a8edfd31c61e0accb4965c7f1"
   }
  }
 },
 "nbformat": 4,
 "nbformat_minor": 2
}
